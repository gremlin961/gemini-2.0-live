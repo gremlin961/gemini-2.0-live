{
 "cells": [
  {
   "cell_type": "markdown",
   "id": "18bf6c5b-b6c3-4eea-a07c-9302314065d8",
   "metadata": {},
   "source": [
    "Copyright 2024 Google, LLC. This software is provided as-is,\n",
    "without warranty or representation for any use or purpose. Your\n",
    "use of it is subject to your agreement with Google.\n",
    "\n",
    "Licensed under the Apache License, Version 2.0 (the \"License\");\n",
    "you may not use this file except in compliance with the License.\n",
    "You may obtain a copy of the License at\n",
    "\n",
    "   http://www.apache.org/licenses/LICENSE-2.0\n",
    "\n",
    "Unless required by applicable law or agreed to in writing, software\n",
    "distributed under the License is distributed on an \"AS IS\" BASIS,\n",
    "WITHOUT WARRANTIES OR CONDITIONS OF ANY KIND, either express or implied.\n",
    "See the License for the specific language governing permissions and\n",
    "limitations under the License.\n",
    "\n",
    "# Gemini 2.0 Chat Example\n",
    "\n",
    "This notebook provides a simple example for interacting with Google's new Gemini 2.0 models using the unified Gen AI SDK. For more information please visit https://cloud.google.com/vertex-ai/generative-ai/docs/gemini-v2"
   ]
  },
  {
   "cell_type": "markdown",
   "id": "d6216210-e56e-4e07-9ef8-c7c077a72e55",
   "metadata": {},
   "source": [
    "Install the needed dependencies for the notebook."
   ]
  },
  {
   "cell_type": "code",
   "execution_count": null,
   "id": "cb5f7477-c55f-4828-a3c0-3c08213272a6",
   "metadata": {
    "tags": []
   },
   "outputs": [],
   "source": [
    "!pip install -r requirements.txt"
   ]
  },
  {
   "cell_type": "markdown",
   "id": "fe49d241-94f3-4685-94dc-4c0ec21208da",
   "metadata": {},
   "source": [
    "Import python libraries. Note the new \"genai\" library, which you can install using 'pip install google-genai'."
   ]
  },
  {
   "cell_type": "code",
   "execution_count": null,
   "id": "55800605-c9b1-40c9-8c12-fb17de2876a1",
   "metadata": {
    "tags": []
   },
   "outputs": [],
   "source": [
    "import asyncio\n",
    "import base64\n",
    "import contextlib\n",
    "import datetime\n",
    "import os\n",
    "import json\n",
    "import wave\n",
    "import itertools\n",
    "\n",
    "import nest_asyncio\n",
    "\n",
    "from IPython.display import display, Audio, clear_output\n",
    "from google import genai"
   ]
  },
  {
   "cell_type": "markdown",
   "id": "470424ae-972c-4f13-b3e0-15e50432f5c6",
   "metadata": {},
   "source": [
    "Set your project variables. Change \"YOUR_PROJECT_ID\" to your GCP project ID."
   ]
  },
  {
   "cell_type": "code",
   "execution_count": null,
   "id": "93a33169-d938-4185-8a08-d48cbee56958",
   "metadata": {
    "tags": []
   },
   "outputs": [],
   "source": [
    "project_id = \"YOUR_PROJECT_ID\"\n",
    "location = \"global\"\n",
    "region = \"us-central1\""
   ]
  },
  {
   "cell_type": "markdown",
   "id": "5b485a0d-aaa3-4f04-b411-3198c3e3d6f8",
   "metadata": {},
   "source": [
    "Initialize the model, specifying 'vertexai=True'. The new Google Gen AI SDK provides a unified interface to Gemini 2.0 through both the Gemini Developer API and the Gemini API on Vertex AI. "
   ]
  },
  {
   "cell_type": "code",
   "execution_count": null,
   "id": "2e18c7a8-c4e8-4002-bf95-36def8fb580f",
   "metadata": {
    "tags": []
   },
   "outputs": [],
   "source": [
    "client = genai.Client(\n",
    "    vertexai=True, project=project_id, location=region\n",
    ")"
   ]
  },
  {
   "cell_type": "markdown",
   "id": "88e378b7-93e5-4fd1-a307-3816f0c79269",
   "metadata": {},
   "source": [
    "Instead of performning an interactive chat session, you can optionally request a single turn generated response as outlined below."
   ]
  },
  {
   "cell_type": "code",
   "execution_count": null,
   "id": "a7a2347b-403b-4205-b8a6-7bd8eedd69dd",
   "metadata": {
    "tags": []
   },
   "outputs": [],
   "source": [
    "#response = client.models.generate_content(\n",
    "#    model='gemini-2.0-flash-exp', contents='Hi Gemini!'\n",
    "#)\n",
    "#print(response.text)"
   ]
  },
  {
   "cell_type": "markdown",
   "id": "51680851-4f7e-45f1-9b3f-18b5c86dec1a",
   "metadata": {},
   "source": [
    "## Start with a simple chat session"
   ]
  },
  {
   "cell_type": "markdown",
   "id": "8156e401-d8b4-47b9-8be0-679d0205f0ae",
   "metadata": {},
   "source": [
    "First, we'll select the model we want to use and then set the configuration the response for text only."
   ]
  },
  {
   "cell_type": "code",
   "execution_count": null,
   "id": "0e1bbaf5-deb6-4c18-a300-bd81574bc506",
   "metadata": {
    "tags": []
   },
   "outputs": [],
   "source": [
    "model_id = \"gemini-2.0-flash-exp\"\n",
    "config = {\"response_modalities\": [\"TEXT\"]}"
   ]
  },
  {
   "cell_type": "markdown",
   "id": "fad97029-deb3-4eea-8156-da255115725e",
   "metadata": {},
   "source": [
    "We need to use nest_asyncio since we will be calling asyncio.run from within the already-running notebook's event loop.  The asyncio.run is used for running a coroutine directly on the event loop, but the event loop will already be running since we're calling it inside of a notebook. You probably will not need this outside of a Jupyter notebook environment. "
   ]
  },
  {
   "cell_type": "code",
   "execution_count": null,
   "id": "982ee7aa-bdf6-4548-b928-e905515680e2",
   "metadata": {
    "tags": []
   },
   "outputs": [],
   "source": [
    "nest_asyncio.apply()"
   ]
  },
  {
   "cell_type": "markdown",
   "id": "556959ee-e70c-47e8-a582-f3e407516c24",
   "metadata": {},
   "source": [
    "Define an interactive text chat session using the Gen AI API."
   ]
  },
  {
   "cell_type": "code",
   "execution_count": null,
   "id": "9c8fc1f3-5ef9-490d-a894-5100a61d0a97",
   "metadata": {
    "tags": []
   },
   "outputs": [],
   "source": [
    "async def interactive_chat(client, model_id, config):\n",
    "    \"\"\"\n",
    "    Starts an interactive chat session with a specified model.\n",
    "\n",
    "    Args:\n",
    "        client: The client to use for communication.\n",
    "        model_id: The ID of the model to interact with.\n",
    "        config: The configuration to use for the session.\n",
    "    \"\"\"\n",
    "    async with client.aio.live.connect(model=model_id, config=config) as session:\n",
    "        while True:\n",
    "            prompt = input(\"Enter your prompt here (or 'End' to quit): \")\n",
    "            if prompt.lower() == \"end\":\n",
    "                 break\n",
    "\n",
    "            await session.send(prompt, end_of_turn=True)\n",
    "            print(\"> You: \", prompt)  # Print the user's prompt\n",
    "\n",
    "            async for response in session.receive():\n",
    "                if response.text:\n",
    "                    print(response.text, end=\"\", flush=True)"
   ]
  },
  {
   "cell_type": "markdown",
   "id": "850d9a92-4ca8-47d8-a0c1-2ec40caf36bc",
   "metadata": {},
   "source": [
    "Start the chat session by running the interactive_chat function. Simply type 'End' to stop the session."
   ]
  },
  {
   "cell_type": "code",
   "execution_count": null,
   "id": "5b0ba96e-159a-4025-be10-5eea0936d73d",
   "metadata": {
    "tags": []
   },
   "outputs": [],
   "source": [
    "asyncio.run(interactive_chat(client, model_id, config))"
   ]
  },
  {
   "cell_type": "markdown",
   "id": "708bd440-8d2c-4219-84ea-e18da81896a9",
   "metadata": {},
   "source": [
    " __________________________________________"
   ]
  },
  {
   "cell_type": "markdown",
   "id": "62fd2779-4dcc-4658-ae05-066cf503c619",
   "metadata": {},
   "source": [
    "That's how easy it is to use the new GenAI API"
   ]
  },
  {
   "cell_type": "markdown",
   "id": "9d8734f6-b332-45de-94a4-1089c9dc81dc",
   "metadata": {},
   "source": [
    "## Text to Auidio"
   ]
  },
  {
   "cell_type": "markdown",
   "id": "e67cba72-080e-43b5-96ac-9b1ea5203d8f",
   "metadata": {},
   "source": [
    "Next we'll change the response modality to Audio. This will allow Gemini 2.0 to respond using audio instead of text."
   ]
  },
  {
   "cell_type": "markdown",
   "id": "6b7f7c17-64ca-436f-a312-6582677a6bf3",
   "metadata": {},
   "source": [
    "Define a function to create a temporary local wave file. This file will be overwritten as we proceed with the conversation."
   ]
  },
  {
   "cell_type": "code",
   "execution_count": null,
   "id": "7a166e5d-a3f9-4d5b-baa0-601f14f72062",
   "metadata": {
    "tags": []
   },
   "outputs": [],
   "source": [
    "@contextlib.contextmanager\n",
    "def wave_file(filename, channels=1, rate=24000, sample_width=2):\n",
    "    with wave.open(filename, \"wb\") as wf:\n",
    "        wf.setnchannels(channels)\n",
    "        wf.setsampwidth(sample_width)\n",
    "        wf.setframerate(rate)\n",
    "        yield wf"
   ]
  },
  {
   "cell_type": "markdown",
   "id": "3451aa72-e79a-4009-b3c6-f0e2607fe989",
   "metadata": {},
   "source": [
    "Now we'll change the response modality to Audio."
   ]
  },
  {
   "cell_type": "code",
   "execution_count": null,
   "id": "ee85fb62-adf3-42a3-b784-58fa4c701132",
   "metadata": {
    "tags": []
   },
   "outputs": [],
   "source": [
    "config={\"generation_config\": {\"response_modalities\": [\"AUDIO\"]}}"
   ]
  },
  {
   "cell_type": "markdown",
   "id": "700dca10-387b-4390-8841-9aa8292342e6",
   "metadata": {},
   "source": [
    "Define an interactive chat session with Gemini 2.0. We'll use the same format as our last interactive session, only this time Gemini will respond to us with audio instead of text."
   ]
  },
  {
   "cell_type": "code",
   "execution_count": null,
   "id": "7e533f16-a39a-4611-a62a-dae2aa2fec71",
   "metadata": {
    "tags": []
   },
   "outputs": [],
   "source": [
    "async def interactive_chat_audio_response(client, model_id, config):\n",
    "    \"\"\"\n",
    "    Starts an interactive chat session with audio responses.\n",
    "\n",
    "    Args:\n",
    "        client: The client to use for communication.\n",
    "        model_id: The ID of the model to interact with.\n",
    "        config: The configuration to use for the session.\n",
    "    \"\"\"\n",
    "    async with client.aio.live.connect(model=model_id, config=config) as session:\n",
    "        file_name = 'audio.wav'\n",
    "        #with wave_file(file_name) as wav:\n",
    "        while True:\n",
    "            prompt = input(\"Enter your prompt here (or 'End' to quit): \")\n",
    "            if prompt.lower() == \"end\":\n",
    "                break\n",
    "                    \n",
    "            await session.send(prompt, end_of_turn=True)\n",
    "            print(\"> You: \", prompt)  # Print the user's prompt\n",
    "            \n",
    "            first = True\n",
    "            with wave_file(file_name) as wav:\n",
    "                async for response in session.receive():\n",
    "            \n",
    "                    if response.data is not None:\n",
    "                        model_turn = response.server_content.model_turn\n",
    "                        if model_turn.parts[0].inline_data.mime_type == 'audio/pcs':\n",
    "                            if first:\n",
    "                                print(model_turn.parts[0].inline_data.mime_type)\n",
    "                                first = False\n",
    "                        print('.', end='.')\n",
    "                        wav.writeframes(response.data)\n",
    "\n",
    "\n",
    "                display(Audio(file_name, autoplay=True))"
   ]
  },
  {
   "cell_type": "markdown",
   "id": "4706a135-96d7-4a70-82f7-d1ab6bbf248d",
   "metadata": {},
   "source": [
    "Start the chat session, only this time we'll run the interactive_chat_audio_response function. Just like before, simply type 'End' to stop the session."
   ]
  },
  {
   "cell_type": "code",
   "execution_count": null,
   "id": "98c0e6b9-7032-44f6-8288-4d69631e5249",
   "metadata": {
    "tags": []
   },
   "outputs": [],
   "source": [
    "asyncio.run(interactive_chat_audio_response(client, model_id, config))"
   ]
  },
  {
   "cell_type": "code",
   "execution_count": null,
   "id": "88f38134-34e0-4b2b-9ad8-06f3d703d3fc",
   "metadata": {},
   "outputs": [],
   "source": []
  }
 ],
 "metadata": {
  "environment": {
   "kernel": "conda-base-py",
   "name": "workbench-notebooks.m124",
   "type": "gcloud",
   "uri": "us-docker.pkg.dev/deeplearning-platform-release/gcr.io/workbench-notebooks:m124"
  },
  "kernelspec": {
   "display_name": "Python 3 (ipykernel)",
   "language": "python",
   "name": "conda-base-py"
  },
  "language_info": {
   "codemirror_mode": {
    "name": "ipython",
    "version": 3
   },
   "file_extension": ".py",
   "mimetype": "text/x-python",
   "name": "python",
   "nbconvert_exporter": "python",
   "pygments_lexer": "ipython3",
   "version": "3.10.14"
  }
 },
 "nbformat": 4,
 "nbformat_minor": 5
}
